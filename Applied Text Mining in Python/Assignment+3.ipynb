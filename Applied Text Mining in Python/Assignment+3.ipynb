{
 "cells": [
  {
   "cell_type": "markdown",
   "metadata": {},
   "source": [
    "---\n",
    "\n",
    "_You are currently looking at **version 1.1** of this notebook. To download notebooks and datafiles, as well as get help on Jupyter notebooks in the Coursera platform, visit the [Jupyter Notebook FAQ](https://www.coursera.org/learn/python-text-mining/resources/d9pwm) course resource._\n",
    "\n",
    "---"
   ]
  },
  {
   "cell_type": "markdown",
   "metadata": {},
   "source": [
    "# Assignment 3\n",
    "\n",
    "In this assignment you will explore text message data and create models to predict if a message is spam or not. "
   ]
  },
  {
   "cell_type": "code",
   "execution_count": 1,
   "metadata": {},
   "outputs": [
    {
     "data": {
      "text/html": [
       "<div>\n",
       "<style>\n",
       "    .dataframe thead tr:only-child th {\n",
       "        text-align: right;\n",
       "    }\n",
       "\n",
       "    .dataframe thead th {\n",
       "        text-align: left;\n",
       "    }\n",
       "\n",
       "    .dataframe tbody tr th {\n",
       "        vertical-align: top;\n",
       "    }\n",
       "</style>\n",
       "<table border=\"1\" class=\"dataframe\">\n",
       "  <thead>\n",
       "    <tr style=\"text-align: right;\">\n",
       "      <th></th>\n",
       "      <th>text</th>\n",
       "      <th>target</th>\n",
       "    </tr>\n",
       "  </thead>\n",
       "  <tbody>\n",
       "    <tr>\n",
       "      <th>0</th>\n",
       "      <td>Go until jurong point, crazy.. Available only ...</td>\n",
       "      <td>0</td>\n",
       "    </tr>\n",
       "    <tr>\n",
       "      <th>1</th>\n",
       "      <td>Ok lar... Joking wif u oni...</td>\n",
       "      <td>0</td>\n",
       "    </tr>\n",
       "    <tr>\n",
       "      <th>2</th>\n",
       "      <td>Free entry in 2 a wkly comp to win FA Cup fina...</td>\n",
       "      <td>1</td>\n",
       "    </tr>\n",
       "    <tr>\n",
       "      <th>3</th>\n",
       "      <td>U dun say so early hor... U c already then say...</td>\n",
       "      <td>0</td>\n",
       "    </tr>\n",
       "    <tr>\n",
       "      <th>4</th>\n",
       "      <td>Nah I don't think he goes to usf, he lives aro...</td>\n",
       "      <td>0</td>\n",
       "    </tr>\n",
       "    <tr>\n",
       "      <th>5</th>\n",
       "      <td>FreeMsg Hey there darling it's been 3 week's n...</td>\n",
       "      <td>1</td>\n",
       "    </tr>\n",
       "    <tr>\n",
       "      <th>6</th>\n",
       "      <td>Even my brother is not like to speak with me. ...</td>\n",
       "      <td>0</td>\n",
       "    </tr>\n",
       "    <tr>\n",
       "      <th>7</th>\n",
       "      <td>As per your request 'Melle Melle (Oru Minnamin...</td>\n",
       "      <td>0</td>\n",
       "    </tr>\n",
       "    <tr>\n",
       "      <th>8</th>\n",
       "      <td>WINNER!! As a valued network customer you have...</td>\n",
       "      <td>1</td>\n",
       "    </tr>\n",
       "    <tr>\n",
       "      <th>9</th>\n",
       "      <td>Had your mobile 11 months or more? U R entitle...</td>\n",
       "      <td>1</td>\n",
       "    </tr>\n",
       "  </tbody>\n",
       "</table>\n",
       "</div>"
      ],
      "text/plain": [
       "                                                text  target\n",
       "0  Go until jurong point, crazy.. Available only ...       0\n",
       "1                      Ok lar... Joking wif u oni...       0\n",
       "2  Free entry in 2 a wkly comp to win FA Cup fina...       1\n",
       "3  U dun say so early hor... U c already then say...       0\n",
       "4  Nah I don't think he goes to usf, he lives aro...       0\n",
       "5  FreeMsg Hey there darling it's been 3 week's n...       1\n",
       "6  Even my brother is not like to speak with me. ...       0\n",
       "7  As per your request 'Melle Melle (Oru Minnamin...       0\n",
       "8  WINNER!! As a valued network customer you have...       1\n",
       "9  Had your mobile 11 months or more? U R entitle...       1"
      ]
     },
     "execution_count": 1,
     "metadata": {},
     "output_type": "execute_result"
    }
   ],
   "source": [
    "import pandas as pd\n",
    "import numpy as np\n",
    "\n",
    "spam_data = pd.read_csv('spam.csv')\n",
    "\n",
    "spam_data['target'] = np.where(spam_data['target']=='spam',1,0)\n",
    "spam_data.head(10)"
   ]
  },
  {
   "cell_type": "code",
   "execution_count": 2,
   "metadata": {
    "collapsed": true
   },
   "outputs": [],
   "source": [
    "from sklearn.model_selection import train_test_split\n",
    "\n",
    "\n",
    "X_train, X_test, y_train, y_test = train_test_split(spam_data['text'], \n",
    "                                                    spam_data['target'], \n",
    "                                                    random_state=0)"
   ]
  },
  {
   "cell_type": "markdown",
   "metadata": {},
   "source": [
    "### Question 1\n",
    "What percentage of the documents in `spam_data` are spam?\n",
    "\n",
    "*This function should return a float, the percent value (i.e. $ratio * 100$).*"
   ]
  },
  {
   "cell_type": "code",
   "execution_count": 3,
   "metadata": {
    "collapsed": true
   },
   "outputs": [],
   "source": [
    "def answer_one():\n",
    "    \n",
    "    ratio=len(spam_data[(spam_data[\"target\"]==1)])/len(spam_data)\n",
    "    return ratio*100"
   ]
  },
  {
   "cell_type": "code",
   "execution_count": 4,
   "metadata": {},
   "outputs": [
    {
     "data": {
      "text/plain": [
       "13.406317300789663"
      ]
     },
     "execution_count": 4,
     "metadata": {},
     "output_type": "execute_result"
    }
   ],
   "source": [
    "answer_one()"
   ]
  },
  {
   "cell_type": "markdown",
   "metadata": {},
   "source": [
    "### Question 2\n",
    "\n",
    "Fit the training data `X_train` using a Count Vectorizer with default parameters.\n",
    "\n",
    "What is the longest token in the vocabulary?\n",
    "\n",
    "*This function should return a string.*"
   ]
  },
  {
   "cell_type": "code",
   "execution_count": 5,
   "metadata": {
    "collapsed": true
   },
   "outputs": [],
   "source": [
    "from sklearn.feature_extraction.text import CountVectorizer\n",
    "\n",
    "def answer_two():\n",
    "    cvr=CountVectorizer()\n",
    "    X_vectorize=cvr.fit_transform(X_train)\n",
    "    voc=cvr.vocabulary_.keys()\n",
    "    max_lenght=0\n",
    "    for i in voc:\n",
    "        if len(i)>max_lenght:\n",
    "            max_word=i\n",
    "            max_lenght=len(max_word)\n",
    "        \n",
    "        \n",
    "        \n",
    "    return max_word"
   ]
  },
  {
   "cell_type": "code",
   "execution_count": 6,
   "metadata": {},
   "outputs": [
    {
     "data": {
      "text/plain": [
       "'com1win150ppmx3age16subscription'"
      ]
     },
     "execution_count": 6,
     "metadata": {},
     "output_type": "execute_result"
    }
   ],
   "source": [
    "answer_two()"
   ]
  },
  {
   "cell_type": "markdown",
   "metadata": {},
   "source": [
    "### Question 3\n",
    "\n",
    "Fit and transform the training data `X_train` using a Count Vectorizer with default parameters.\n",
    "\n",
    "Next, fit a fit a multinomial Naive Bayes classifier model with smoothing `alpha=0.1`. Find the area under the curve (AUC) score using the transformed test data.\n",
    "\n",
    "*This function should return the AUC score as a float.*"
   ]
  },
  {
   "cell_type": "code",
   "execution_count": 7,
   "metadata": {
    "collapsed": true
   },
   "outputs": [],
   "source": [
    "from sklearn.naive_bayes import MultinomialNB\n",
    "from sklearn.metrics import roc_auc_score\n",
    "\n",
    "def answer_three():\n",
    "    cvr=CountVectorizer()\n",
    "    X_vectorize=cvr.fit_transform(X_train)\n",
    "    NIB=MultinomialNB(alpha=0.1)\n",
    "    \n",
    "    NIB.fit(X_vectorize,y_train)\n",
    "    y_predict=NIB.predict(cvr.transform(X_test))\n",
    "    auc_score=roc_auc_score(y_test,y_predict)\n",
    "    \n",
    "    \n",
    "    \n",
    "    return auc_score"
   ]
  },
  {
   "cell_type": "code",
   "execution_count": 8,
   "metadata": {},
   "outputs": [
    {
     "data": {
      "text/plain": [
       "0.97208121827411165"
      ]
     },
     "execution_count": 8,
     "metadata": {},
     "output_type": "execute_result"
    }
   ],
   "source": [
    "answer_three()"
   ]
  },
  {
   "cell_type": "markdown",
   "metadata": {},
   "source": [
    "### Question 4\n",
    "\n",
    "Fit and transform the training data `X_train` using a Tfidf Vectorizer with default parameters.\n",
    "\n",
    "What 20 features have the smallest tf-idf and what 20 have the largest tf-idf?\n",
    "\n",
    "Put these features in a two series where each series is sorted by tf-idf value and then alphabetically by feature name. The index of the series should be the feature name, and the data should be the tf-idf.\n",
    "\n",
    "The series of 20 features with smallest tf-idfs should be sorted smallest tfidf first, the list of 20 features with largest tf-idfs should be sorted largest first. \n",
    "\n",
    "*This function should return a tuple of two series\n",
    "`(smallest tf-idfs series, largest tf-idfs series)`.*"
   ]
  },
  {
   "cell_type": "code",
   "execution_count": 126,
   "metadata": {
    "collapsed": true
   },
   "outputs": [],
   "source": [
    "from sklearn.feature_extraction.text import TfidfVectorizer\n",
    "def answer_four():\n",
    "    cvr=TfidfVectorizer()\n",
    "    X_vectorize=cvr.fit_transform(X_train)\n",
    "    feature_names=cvr.get_feature_names()\n",
    "    ##argmax to computer the index associate with max td-idf value for each document\n",
    "    X_index_max=np.array(np.argmax(X_vectorize,1)).reshape(-1,)\n",
    "    series_tdidf_max={}\n",
    "    ##pointer for the spares matrix and for the detection of the associate tdidf score in the spares matrix\n",
    "    for i in range((X_vectorize.shape[0])):\n",
    "        max_index=X_index_max[i]\n",
    "        max_score=X_vectorize[i,max_index]\n",
    "        max_token=feature_names[max_index]\n",
    "        series_tdidf_max[max_token]=max_score\n",
    "        if max_token not in list(series_tdidf_max.keys()):\n",
    "            series_tdidf_max[max_token]=max_score\n",
    "        else:\n",
    "            if max_score>series_tdidf_max[max_token]:\n",
    "                series_tdidf_max[max_token]=max_score\n",
    "            else:\n",
    "                continue\n",
    "    df=pd.DataFrame()\n",
    "    df[\"Name\"]=series_tdidf_max.keys()\n",
    "    df[\"score\"]=series_tdidf_max.values()\n",
    "    df=df.sort_values(by=['score','Name'], ascending = True,kind=\"mergesort\")\n",
    "    \n",
    "    largest=df[:20]\n",
    "    largest.set_index(\"Name\",inplace=True)\n",
    "    l_seires=pd.Series(largest[\"score\"])\n",
    "    smallest=df[-20:]\n",
    "    smallest.set_index(\"Name\",inplace=True)\n",
    "    s_seires=pd.Series(smallest[\"score\"])\n",
    "    s_seires.name=None\n",
    "    s_seires.index.name=None\n",
    "    l_seires.name=None\n",
    "    l_seires.index.name=None\n",
    "    \n",
    "    \n",
    "    return (smallest,largest)"
   ]
  },
  {
   "cell_type": "code",
   "execution_count": 127,
   "metadata": {},
   "outputs": [
    {
     "data": {
      "text/plain": [
       "(                 score\n",
       " significance  0.875113\n",
       " wearing       0.896043\n",
       " hi            0.900700\n",
       " bloo          0.908409\n",
       " face          0.929636\n",
       " blank         0.932702\n",
       " tick          0.980166\n",
       " 146tf150p     1.000000\n",
       " 645           1.000000\n",
       " beerage       1.000000\n",
       " done          1.000000\n",
       " er            1.000000\n",
       " havent        1.000000\n",
       " home          1.000000\n",
       " nite          1.000000\n",
       " ok            1.000000\n",
       " okie          1.000000\n",
       " thank         1.000000\n",
       " thanx         1.000000\n",
       " too           1.000000,                 score\n",
       " 00           0.000000\n",
       " amplikater   0.214437\n",
       " coaxing      0.228029\n",
       " attitude     0.230309\n",
       " drama        0.230350\n",
       " hall         0.236793\n",
       " 113          0.236802\n",
       " bevies       0.238575\n",
       " freshers     0.238751\n",
       " 3mobile      0.240590\n",
       " drunk        0.243873\n",
       " one          0.243913\n",
       " 09063458130  0.244229\n",
       " 09050090044  0.245115\n",
       " countinlots  0.246661\n",
       " dileep       0.246904\n",
       " tcs          0.247019\n",
       " 09061744553  0.248710\n",
       " 4goten       0.250106\n",
       " 09066382422  0.250261)"
      ]
     },
     "execution_count": 127,
     "metadata": {},
     "output_type": "execute_result"
    }
   ],
   "source": [
    "answer_four()"
   ]
  },
  {
   "cell_type": "markdown",
   "metadata": {},
   "source": [
    "### Question 5\n",
    "\n",
    "Fit and transform the training data `X_train` using a Tfidf Vectorizer ignoring terms that have a document frequency strictly lower than **3**.\n",
    "\n",
    "Then fit a multinomial Naive Bayes classifier model with smoothing `alpha=0.1` and compute the area under the curve (AUC) score using the transformed test data.\n",
    "\n",
    "*This function should return the AUC score as a float.*"
   ]
  },
  {
   "cell_type": "code",
   "execution_count": 11,
   "metadata": {
    "collapsed": true
   },
   "outputs": [],
   "source": [
    "from sklearn.feature_extraction.text import TfidfVectorizer\n",
    "from sklearn.naive_bayes import MultinomialNB\n",
    "from sklearn.metrics import auc\n",
    "\n",
    "def answer_five():\n",
    "    tdidf=TfidfVectorizer(min_df=3)\n",
    "    X_vect=tdidf.fit_transform(X_train)\n",
    "    \n",
    "    nib=MultinomialNB(alpha=0.1)\n",
    "    nib.fit(X_vect,y_train)\n",
    "    X_vect_test=tdidf.transform(X_test)\n",
    "    \n",
    "    y_scores=nib.predict_proba(X_vect_test)[:,1]\n",
    "    \n",
    "    \n",
    "    auc=roc_auc_score(y_test, y_scores)\n",
    "    \n",
    "    \n",
    "    return auc"
   ]
  },
  {
   "cell_type": "code",
   "execution_count": 12,
   "metadata": {},
   "outputs": [
    {
     "data": {
      "text/plain": [
       "0.99549683377756659"
      ]
     },
     "execution_count": 12,
     "metadata": {},
     "output_type": "execute_result"
    }
   ],
   "source": [
    "answer_five()"
   ]
  },
  {
   "cell_type": "markdown",
   "metadata": {},
   "source": [
    "### Question 6\n",
    "\n",
    "What is the average length of documents (number of characters) for not spam and spam documents?\n",
    "\n",
    "*This function should return a tuple (average length not spam, average length spam).*"
   ]
  },
  {
   "cell_type": "code",
   "execution_count": 13,
   "metadata": {
    "collapsed": true
   },
   "outputs": [],
   "source": [
    "import numpy as np\n",
    "from statistics import mean\n",
    "def answer_six():\n",
    "    spam_text=np.array(spam_data[(spam_data[\"target\"]==1)][\"text\"])\n",
    "    not_spam_text=np.array(spam_data[(spam_data[\"target\"]==0)][\"text\"])\n",
    "    spam_len=[]\n",
    "    for i in spam_text:\n",
    "        char_spam=len(i)\n",
    "        spam_len.append(char_spam)\n",
    "    not_spam_len=[]\n",
    "    for i in not_spam_text:\n",
    "        char_not_spam=len(i)\n",
    "        not_spam_len.append(char_not_spam)\n",
    "    \n",
    "    \n",
    "    return (mean(not_spam_len),mean(spam_len))"
   ]
  },
  {
   "cell_type": "code",
   "execution_count": 14,
   "metadata": {},
   "outputs": [
    {
     "data": {
      "text/plain": [
       "(71.02362694300518, 138.8661311914324)"
      ]
     },
     "execution_count": 14,
     "metadata": {},
     "output_type": "execute_result"
    }
   ],
   "source": [
    "answer_six()"
   ]
  },
  {
   "cell_type": "markdown",
   "metadata": {},
   "source": [
    "<br>\n",
    "<br>\n",
    "The following function has been provided to help you combine new features into the training data:"
   ]
  },
  {
   "cell_type": "code",
   "execution_count": 15,
   "metadata": {
    "collapsed": true
   },
   "outputs": [],
   "source": [
    "def add_feature(X, feature_to_add):\n",
    "    \"\"\"\n",
    "    Returns sparse feature matrix with added feature.\n",
    "    feature_to_add can also be a list of features.\n",
    "    \"\"\"\n",
    "    from scipy.sparse import csr_matrix, hstack\n",
    "    return hstack([X, csr_matrix(feature_to_add).T], 'csr')"
   ]
  },
  {
   "cell_type": "markdown",
   "metadata": {},
   "source": [
    "### Question 7\n",
    "\n",
    "Fit and transform the training data X_train using a Tfidf Vectorizer ignoring terms that have a document frequency strictly lower than **5**.\n",
    "\n",
    "Using this document-term matrix and an additional feature, **the length of document (number of characters)**, fit a Support Vector Classification model with regularization `C=10000`. Then compute the area under the curve (AUC) score using the transformed test data.\n",
    "\n",
    "*This function should return the AUC score as a float.*"
   ]
  },
  {
   "cell_type": "code",
   "execution_count": 16,
   "metadata": {
    "collapsed": true
   },
   "outputs": [],
   "source": [
    "from sklearn.svm import SVC\n",
    "\n",
    "def answer_seven():\n",
    "    tdidf=TfidfVectorizer(min_df=5)\n",
    "    svc=SVC(C=10000, probability=True)\n",
    "    X_vect_train=tdidf.fit_transform(X_train)\n",
    "    \n",
    "    X_vect_test=tdidf.transform(X_test)\n",
    "    X_train_count=add_feature(X_vect_train,[len(i) for i in X_train])  \n",
    "    X_test_count = add_feature(X_vect_test, [len(i) for i in X_test])\n",
    "    svc.fit(X_train_count,y_train)\n",
    "    \n",
    "    y_scores=svc.predict_proba(X_test_count)[:,1]\n",
    "    auc=roc_auc_score(y_test, y_scores)\n",
    "    \n",
    "    return auc"
   ]
  },
  {
   "cell_type": "code",
   "execution_count": 17,
   "metadata": {},
   "outputs": [
    {
     "data": {
      "text/plain": [
       "0.99511060557187236"
      ]
     },
     "execution_count": 17,
     "metadata": {},
     "output_type": "execute_result"
    }
   ],
   "source": [
    "answer_seven()"
   ]
  },
  {
   "cell_type": "markdown",
   "metadata": {},
   "source": [
    "### Question 8\n",
    "\n",
    "What is the average number of digits per document for not spam and spam documents?\n",
    "\n",
    "*This function should return a tuple (average # digits not spam, average # digits spam).*"
   ]
  },
  {
   "cell_type": "code",
   "execution_count": 18,
   "metadata": {
    "collapsed": true
   },
   "outputs": [],
   "source": [
    "def answer_eight():\n",
    "    from nltk import word_tokenize\n",
    "    spam_text=spam_data[(spam_data[\"target\"]==1)][\"text\"]\n",
    "    not_spam_text=spam_data[(spam_data[\"target\"]==0)][\"text\"]\n",
    "    spam_sum_digits=[]\n",
    "    not_spam_sum_digits=[]\n",
    "    for j in spam_text:\n",
    "        spam_digit_count=0\n",
    "        for i in j:\n",
    "            if i.isdigit():\n",
    "                spam_digit_count+=1\n",
    "        spam_sum_digits.append(spam_digit_count)\n",
    "    for j in not_spam_text:\n",
    "        not_spam_digit_count=0\n",
    "        for i in j:\n",
    "            if i.isdigit():\n",
    "                not_spam_digit_count+=1\n",
    "        not_spam_sum_digits.append(not_spam_digit_count)\n",
    "    sums_digit_spam=sum(spam_sum_digits)\n",
    "    sums_digit_non_spam=sum(not_spam_sum_digits)\n",
    "    mean_digit_spam=sums_digit_spam/len(spam_text)\n",
    "    mean_digit_non_spam=sums_digit_non_spam/len(not_spam_text)\n",
    "        \n",
    "    \n",
    "    return (mean_digit_non_spam,mean_digit_spam)"
   ]
  },
  {
   "cell_type": "code",
   "execution_count": 19,
   "metadata": {},
   "outputs": [
    {
     "data": {
      "text/plain": [
       "(0.2992746113989637, 15.759036144578314)"
      ]
     },
     "execution_count": 19,
     "metadata": {},
     "output_type": "execute_result"
    }
   ],
   "source": [
    "answer_eight()"
   ]
  },
  {
   "cell_type": "markdown",
   "metadata": {},
   "source": [
    "### Question 9\n",
    "\n",
    "Fit and transform the training data `X_train` using a Tfidf Vectorizer ignoring terms that have a document frequency strictly lower than **5** and using **word n-grams from n=1 to n=3** (unigrams, bigrams, and trigrams).\n",
    "\n",
    "Using this document-term matrix and the following additional features:\n",
    "* the length of document (number of characters)\n",
    "* **number of digits per document**\n",
    "\n",
    "fit a Logistic Regression model with regularization `C=100`. Then compute the area under the curve (AUC) score using the transformed test data.\n",
    "\n",
    "*This function should return the AUC score as a float.*"
   ]
  },
  {
   "cell_type": "code",
   "execution_count": 20,
   "metadata": {
    "collapsed": true
   },
   "outputs": [],
   "source": [
    "from sklearn.linear_model import LogisticRegression\n",
    "from sklearn.feature_extraction.text import TfidfVectorizer\n",
    "def answer_nine():\n",
    "    from nltk import word_tokenize\n",
    "    sum_digits=[]\n",
    "    non_sum_digits=[]\n",
    "    lg=LogisticRegression(C=100)\n",
    "    tdidf=TfidfVectorizer(min_df=5,ngram_range=(1,3))\n",
    "    for j in X_train:\n",
    "        spam_digit_count=0\n",
    "        for i in j:\n",
    "            if i.isdigit():\n",
    "                spam_digit_count+=1\n",
    "        sum_digits.append(spam_digit_count)\n",
    "        \n",
    "    X_vect_train=tdidf.fit_transform(X_train)\n",
    "    X_vect_test=tdidf.transform(X_test)\n",
    "    X_train_count=add_feature(X_vect_train,[[len(i) for i in X_train],sum_digits])\n",
    "     \n",
    "    \n",
    "    X_vect_test=tdidf.transform(X_test)\n",
    "    for j in X_test:\n",
    "        non_spam_digit_count=0\n",
    "        for i in j:\n",
    "            if i.isdigit():\n",
    "                non_spam_digit_count+=1\n",
    "        non_sum_digits.append(non_spam_digit_count)\n",
    "    \n",
    "    X_test_count = add_feature(X_vect_test,[[len(i) for i in X_test],non_sum_digits])\n",
    "\n",
    "    \n",
    "    lg.fit(X_train_count,y_train)\n",
    "    y_scores=lg.predict_proba(X_test_count)[:,1]\n",
    "    y_pred=lg.predict(X_test_count)\n",
    "    auc=roc_auc_score(y_test, y_pred)\n",
    "    \n",
    "    \n",
    "    return auc"
   ]
  },
  {
   "cell_type": "code",
   "execution_count": 21,
   "metadata": {},
   "outputs": [
    {
     "data": {
      "text/plain": [
       "0.96533283533945646"
      ]
     },
     "execution_count": 21,
     "metadata": {},
     "output_type": "execute_result"
    }
   ],
   "source": [
    "answer_nine()"
   ]
  },
  {
   "cell_type": "markdown",
   "metadata": {},
   "source": [
    "### Question 10\n",
    "\n",
    "What is the average number of non-word characters (anything other than a letter, digit or underscore) per document for not spam and spam documents?\n",
    "\n",
    "*Hint: Use `\\w` and `\\W` character classes*\n",
    "\n",
    "*This function should return a tuple (average # non-word characters not spam, average # non-word characters spam).*"
   ]
  },
  {
   "cell_type": "code",
   "execution_count": 22,
   "metadata": {
    "collapsed": true
   },
   "outputs": [],
   "source": [
    "def answer_ten():\n",
    "    sum_char=[]\n",
    "    non_sum_char=[]\n",
    "    low = ['a','b','c','d','e','f','g','h','i','j','k','l','m','n','o','p','q','r','s','t','u','v','w','x','y','z']\n",
    "    upper = ['A','B','C','D','E','F','G','H','I','J','K','L','M','N','O','P','Q','R','S','T','U','V','W','X','Y','Z']\n",
    "    X_train_spam=spam_data[(spam_data[\"target\"]==1)][\"text\"]\n",
    "    X_train_not_spam=spam_data[(spam_data[\"target\"]==0)][\"text\"]\n",
    "    for j in X_train_spam.str.findall(r\"\\W\"):\n",
    "        char_count=0\n",
    "        for i in j:\n",
    "                char_count+=1\n",
    "        sum_char.append(char_count)\n",
    "    for j in X_train_not_spam.str.findall(r\"\\W\"):\n",
    "        non_char_count=0\n",
    "        for i in j:\n",
    "                non_char_count+=1\n",
    "        non_sum_char.append(non_char_count)\n",
    "    sums_w_spam=sum(sum_char)\n",
    "    sums_w_non_spam=sum(non_sum_char)\n",
    "    mean_w_spam=sums_w_spam/len(sum_char)\n",
    "    mean_w_non_spam=sums_w_non_spam/len(non_sum_char)\n",
    "    return (mean_w_non_spam,mean_w_spam)"
   ]
  },
  {
   "cell_type": "code",
   "execution_count": 23,
   "metadata": {},
   "outputs": [
    {
     "data": {
      "text/plain": [
       "(17.29181347150259, 29.041499330655956)"
      ]
     },
     "execution_count": 23,
     "metadata": {},
     "output_type": "execute_result"
    }
   ],
   "source": [
    "answer_ten()"
   ]
  },
  {
   "cell_type": "markdown",
   "metadata": {},
   "source": [
    "### Question 11\n",
    "\n",
    "Fit and transform the training data X_train using a Count Vectorizer ignoring terms that have a document frequency strictly lower than **5** and using **character n-grams from n=2 to n=5.**\n",
    "\n",
    "To tell Count Vectorizer to use character n-grams pass in `analyzer='char_wb'` which creates character n-grams only from text inside word boundaries. This should make the model more robust to spelling mistakes.\n",
    "\n",
    "Using this document-term matrix and the following additional features:\n",
    "* the length of document (number of characters)\n",
    "* number of digits per document\n",
    "* **number of non-word characters (anything other than a letter, digit or underscore.)**\n",
    "\n",
    "fit a Logistic Regression model with regularization C=100. Then compute the area under the curve (AUC) score using the transformed test data.\n",
    "\n",
    "Also **find the 10 smallest and 10 largest coefficients from the model** and return them along with the AUC score in a tuple.\n",
    "\n",
    "The list of 10 smallest coefficients should be sorted smallest first, the list of 10 largest coefficients should be sorted largest first.\n",
    "\n",
    "The three features that were added to the document term matrix should have the following names should they appear in the list of coefficients:\n",
    "['length_of_doc', 'digit_count', 'non_word_char_count']\n",
    "\n",
    "*This function should return a tuple `(AUC score as a float, smallest coefs list, largest coefs list)`.*"
   ]
  },
  {
   "cell_type": "code",
   "execution_count": 124,
   "metadata": {
    "collapsed": true
   },
   "outputs": [],
   "source": [
    "from sklearn.linear_model import LogisticRegression\n",
    "from sklearn.feature_extraction.text import CountVectorizer\n",
    "def answer_eleven():\n",
    "    tdidf=CountVectorizer(min_df=5,ngram_range=(2,5),analyzer='char_wb')\n",
    "    sum_digits=[]\n",
    "    sum_char=[]\n",
    "    non_sum_digits=[]\n",
    "    non_sum_char=[]\n",
    "    \n",
    "    X_vector=tdidf.fit_transform(X_train)\n",
    "    for j in X_train.str.findall(r\"\\W\"):\n",
    "        char_count=0\n",
    "        for i in j:\n",
    "                char_count+=1\n",
    "        sum_char.append(char_count)\n",
    "    for j in X_train:\n",
    "        spam_digit_count=0\n",
    "        for i in j:\n",
    "            if i.isdigit():\n",
    "                spam_digit_count+=1\n",
    "        sum_digits.append(spam_digit_count)\n",
    "    \n",
    "    X_transformed=add_feature(X_vector,[[len(i) for i in X_train],sum_digits,sum_char])\n",
    "    \n",
    "    clf=LogisticRegression(C=100)\n",
    "    clf.fit(X_transformed,y_train)\n",
    "\n",
    "    \n",
    "    for j in X_test.str.findall(r\"\\W\"):\n",
    "        non_char_count=0\n",
    "        for i in j:\n",
    "                non_char_count+=1\n",
    "        non_sum_char.append(non_char_count)\n",
    "    for j in X_test:\n",
    "        non_spam_digit_count=0\n",
    "        for i in j:\n",
    "            if i.isdigit():\n",
    "                non_spam_digit_count+=1\n",
    "        non_sum_digits.append(non_spam_digit_count)\n",
    "        \n",
    "   \n",
    "    X_vector_test=tdidf.transform(X_test)\n",
    "    \n",
    "    X_transformed_test=add_feature(X_vector_test,[[len(i) for i in X_test],non_sum_digits,non_sum_char]) \n",
    "    \n",
    "    y_pred=clf.predict(X_transformed_test)\n",
    "    auc=roc_auc_score(y_test, y_pred)\n",
    "    \n",
    "    \n",
    "    \n",
    "    feature_names = np.array(tdidf.get_feature_names() + ['length_of_doc', 'digit_count', 'non_word_char_count'])\n",
    "    sorted_coef_index = clf.coef_[0].argsort()\n",
    "    smallest = feature_names[sorted_coef_index[:10]]\n",
    "    largest = feature_names[sorted_coef_index[:-11:-1]]\n",
    "    \n",
    "    return (auc,list(smallest),list(largest))"
   ]
  },
  {
   "cell_type": "code",
   "execution_count": 125,
   "metadata": {},
   "outputs": [
    {
     "data": {
      "text/plain": [
       "(0.97885931107074342,\n",
       " ['. ', '..', '? ', ' i', ' y', ' go', ':)', ' h', 'go', ' m'],\n",
       " ['digit_count', 'ne', 'ia', 'co', 'xt', ' ch', 'mob', ' x', 'ww', 'ar'])"
      ]
     },
     "execution_count": 125,
     "metadata": {},
     "output_type": "execute_result"
    }
   ],
   "source": [
    "answer_eleven()"
   ]
  },
  {
   "cell_type": "code",
   "execution_count": null,
   "metadata": {
    "collapsed": true
   },
   "outputs": [],
   "source": []
  },
  {
   "cell_type": "code",
   "execution_count": null,
   "metadata": {
    "collapsed": true
   },
   "outputs": [],
   "source": []
  }
 ],
 "metadata": {
  "coursera": {
   "course_slug": "python-text-mining",
   "graded_item_id": "Pn19K",
   "launcher_item_id": "y1juS",
   "part_id": "ctlgo"
  },
  "kernelspec": {
   "display_name": "Python 3",
   "language": "python",
   "name": "python3"
  },
  "language_info": {
   "codemirror_mode": {
    "name": "ipython",
    "version": 3
   },
   "file_extension": ".py",
   "mimetype": "text/x-python",
   "name": "python",
   "nbconvert_exporter": "python",
   "pygments_lexer": "ipython3",
   "version": "3.6.2"
  }
 },
 "nbformat": 4,
 "nbformat_minor": 2
}
