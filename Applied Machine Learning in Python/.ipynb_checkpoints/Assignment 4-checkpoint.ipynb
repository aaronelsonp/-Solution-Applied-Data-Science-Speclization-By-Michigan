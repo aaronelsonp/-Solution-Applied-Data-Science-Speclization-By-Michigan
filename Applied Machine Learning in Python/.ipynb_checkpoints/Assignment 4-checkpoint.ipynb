{
 "cells": [
  {
   "cell_type": "code",
   "execution_count": 1,
   "metadata": {},
   "outputs": [],
   "source": [
    "import pandas as pd\n",
    "import numpy as np\n",
    "import math\n",
    "from sklearn.ensemble import RandomForestClassifier\n",
    "from sklearn.model_selection import train_test_split\n",
    "from sklearn.metrics import roc_auc_score\n",
    "from sklearn.metrics import roc_curve, auc\n",
    "from sklearn.preprocessing import LabelEncoder\n",
    "from sklearn.model_selection import GridSearchCV\n",
    "\n",
    "\n",
    "\n",
    "def blight_model():\n",
    "    df=pd.read_csv(\"train.csv\", encoding = \"ISO-8859-1\")\n",
    "    df_1=pd.read_csv(\"test.csv\", encoding = \"ISO-8859-1\")\n",
    "    \n",
    "    \n",
    "    df=df.dropna(subset=[\"compliance\"])\n",
    "    X=np.array(df[[\"fine_amount\",\"admin_fee\",\"state_fee\",\"late_fee\",'judgment_amount']])\n",
    "    y=np.array(df[\"compliance\"])\n",
    "    clf=RandomForestClassifier(max_depth=15).fit(X,y)\n",
    "    \n",
    "   \n",
    "   \n",
    "            \n",
    " \n",
    "    X_test=np.array(df_1[[\"fine_amount\",\"admin_fee\",\"state_fee\",\"late_fee\",'judgment_amount']])\n",
    "    predict_prob= np.array(clf.predict_proba(X_test)[:,1])\n",
    "    df_3=pd.DataFrame({'prediction':np.array(predict_prob)},index=np.array(df_1[\"ticket_id\"]))\n",
    "    \n",
    "    return df_3\n",
    "   "
   ]
  },
  {
   "cell_type": "code",
   "execution_count": null,
   "metadata": {},
   "outputs": [],
   "source": []
  },
  {
   "cell_type": "code",
   "execution_count": null,
   "metadata": {},
   "outputs": [],
   "source": []
  },
  {
   "cell_type": "code",
   "execution_count": null,
   "metadata": {},
   "outputs": [],
   "source": []
  }
 ],
 "metadata": {
  "kernelspec": {
   "display_name": "Python 3",
   "language": "python",
   "name": "python3"
  },
  "language_info": {
   "codemirror_mode": {
    "name": "ipython",
    "version": 3
   },
   "file_extension": ".py",
   "mimetype": "text/x-python",
   "name": "python",
   "nbconvert_exporter": "python",
   "pygments_lexer": "ipython3",
   "version": "3.7.1"
  }
 },
 "nbformat": 4,
 "nbformat_minor": 2
}
